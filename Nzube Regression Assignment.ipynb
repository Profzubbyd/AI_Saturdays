{
 "cells": [
  {
   "cell_type": "markdown",
   "metadata": {},
   "source": [
    "# Assignment 1"
   ]
  },
  {
   "cell_type": "code",
   "execution_count": 1,
   "metadata": {},
   "outputs": [],
   "source": [
    "import numpy as np\n",
    "import pandas as pd\n",
    "import matplotlib.pyplot as plt"
   ]
  },
  {
   "cell_type": "code",
   "execution_count": 2,
   "metadata": {},
   "outputs": [],
   "source": [
    "#Importing the data\n",
    "data = np.loadtxt('ex1data1.txt', delimiter=',')\n",
    "x = data[:,0].reshape(-1,1)\n",
    "y = data[:,1]"
   ]
  },
  {
   "cell_type": "code",
   "execution_count": 3,
   "metadata": {},
   "outputs": [
    {
     "data": {
      "text/plain": [
       "Text(0, 0.5, 'Profit in $10,000')"
      ]
     },
     "execution_count": 3,
     "metadata": {},
     "output_type": "execute_result"
    },
    {
     "data": {
      "image/png": "[encoded data removed]",
      "text/plain": [
       "<Figure size 432x288 with 1 Axes>"
      ]
     },
     "metadata": {
      "needs_background": "light"
     },
     "output_type": "display_data"
    }
   ],
   "source": [
    "#Visualizing the Data\n",
    "plt.scatter(x, y, s=32, marker='o')\n",
    "plt.xlabel(\"Population of city in 10,000\")\n",
    "plt.ylabel(\"Profit in $10,000\")"
   ]
  },
  {
   "cell_type": "code",
   "execution_count": 4,
   "metadata": {},
   "outputs": [
    {
     "data": {
      "text/plain": [
       "LinearRegression(copy_X=True, fit_intercept=True, n_jobs=None,\n",
       "         normalize=False)"
      ]
     },
     "execution_count": 4,
     "metadata": {},
     "output_type": "execute_result"
    }
   ],
   "source": [
    "#Now we train the data using scikit learn\n",
    "from sklearn.model_selection import train_test_split\n",
    "from sklearn.linear_model import LinearRegression\n",
    "from sklearn import metrics\n",
    "\n",
    "X_train,X_test,y_train,y_test = train_test_split(x,y,random_state=0)\n",
    "linreg = LinearRegression()\n",
    "linreg.fit(X_train, y_train)"
   ]
  },
  {
   "cell_type": "code",
   "execution_count": 5,
   "metadata": {},
   "outputs": [],
   "source": [
    "y_pred = linreg.predict(X_test)"
   ]
  },
  {
   "cell_type": "code",
   "execution_count": 6,
   "metadata": {},
   "outputs": [
    {
     "data": {
      "text/plain": [
       "0.7309173021712548"
      ]
     },
     "execution_count": 6,
     "metadata": {},
     "output_type": "execute_result"
    }
   ],
   "source": [
    "#Using the Score method to check the performance of the training model where 0 means poor performance and 1 means perfect\n",
    "linreg.score(X_train,y_train)"
   ]
  },
  {
   "cell_type": "code",
   "execution_count": 7,
   "metadata": {},
   "outputs": [
    {
     "name": "stdout",
     "output_type": "stream",
     "text": [
      "The cost function is: 9.829068168755807\n"
     ]
    }
   ],
   "source": [
    "#Calculating the Cost function which is the Mean Squared Error\n",
    "mse = metrics.mean_squared_error(y_test,y_pred)\n",
    "print(\"The cost function is:\",mse)"
   ]
  },
  {
   "cell_type": "code",
   "execution_count": 8,
   "metadata": {},
   "outputs": [
    {
     "data": {
      "text/plain": [
       "array([1.20934991])"
      ]
     },
     "execution_count": 8,
     "metadata": {},
     "output_type": "execute_result"
    }
   ],
   "source": [
    "linreg.coef_"
   ]
  },
  {
   "cell_type": "code",
   "execution_count": 9,
   "metadata": {},
   "outputs": [
    {
     "data": {
      "text/plain": [
       "-4.106160513581716"
      ]
     },
     "execution_count": 9,
     "metadata": {},
     "output_type": "execute_result"
    }
   ],
   "source": [
    "linreg.intercept_"
   ]
  },
  {
   "cell_type": "code",
   "execution_count": 10,
   "metadata": {},
   "outputs": [
    {
     "name": "stdout",
     "output_type": "stream",
     "text": [
      "Our learned value of theta:  [1.209349914700653, -4.106160513581716]\n"
     ]
    }
   ],
   "source": [
    "print('Our learned value of theta: ',[*linreg.coef_, linreg.intercept_])"
   ]
  },
  {
   "cell_type": "code",
   "execution_count": 11,
   "metadata": {},
   "outputs": [
    {
     "data": {
      "text/plain": [
       "[<matplotlib.lines.Line2D at 0x1db1ee8dc88>]"
      ]
     },
     "execution_count": 11,
     "metadata": {},
     "output_type": "execute_result"
    },
    {
     "data": {
      "image/png": "[encoded data removed]",
      "text/plain": [
       "<Figure size 432x288 with 1 Axes>"
      ]
     },
     "metadata": {
      "needs_background": "light"
     },
     "output_type": "display_data"
    }
   ],
   "source": [
    "plt.figure()\n",
    "x_plot = X_train\n",
    "y_plot = linreg.intercept_ + X_train*linreg.coef_\n",
    "plt.scatter(x, y, s=30, c='r', marker='o', linewidths=1)\n",
    "plt.plot(x_plot,y_plot, label='Linear regression (S. Gradient descent)')"
   ]
  },
  {
   "cell_type": "code",
   "execution_count": 12,
   "metadata": {},
   "outputs": [],
   "source": [
    "def predict():\n",
    "    input_ = float(input(\"Input the population size/10000: \"))\n",
    "    print(\"For a population of \", input_, \", the profit is $\", ((input_ * 1.209349914700653) - 4.106160513581716) * 10000)"
   ]
  },
  {
   "cell_type": "code",
   "execution_count": 13,
   "metadata": {},
   "outputs": [
    {
     "name": "stdout",
     "output_type": "stream",
     "text": [
      "Input the population size/10000: 5.5\n",
      "For a population of  5.5 , the profit is $ 25452.64017271876\n"
     ]
    }
   ],
   "source": [
    "predict()"
   ]
  },
  {
   "cell_type": "code",
   "execution_count": 14,
   "metadata": {},
   "outputs": [],
   "source": [
    "def predict_inverse():\n",
    "    input_ = float(input(\"Input the profit in $: \"))\n",
    "    print(\"For a profit of $\", input_, \", the population size is \", ((input_/10000 + 4.106160513581716)/ 1.209349914700653)*10000)"
   ]
  },
  {
   "cell_type": "code",
   "execution_count": 16,
   "metadata": {},
   "outputs": [
    {
     "name": "stdout",
     "output_type": "stream",
     "text": [
      "Input the profit in $: 25452.64017271876\n",
      "For a profit of $ 25452.64017271876 , the population size is  55000.0\n"
     ]
    }
   ],
   "source": [
    "predict_inverse()"
   ]
  },
  {
   "cell_type": "markdown",
   "metadata": {},
   "source": [
    "## Comparison\n",
    "Given a population of 55000, scikit learn predicted a profit(in $) of 25452.64 as opposed to defining the functions that we did in class which gave us 26854.59. So the values are close but not exact."
   ]
  },
  {
   "cell_type": "markdown",
   "metadata": {},
   "source": [
    "# Assignment 2"
   ]
  },
  {
   "cell_type": "code",
   "execution_count": 17,
   "metadata": {},
   "outputs": [],
   "source": [
    "#data = np.loadtxt(\"Apple.txt\", delimiter = \",\")\n",
    "data = pd.read_csv(\"Apple.txt\", sep=',', header = None)\n",
    "data.columns=[\"Date\", \"Open\", \"High\", \"Low\", \"Close\", \"Adj Close\", \"Volume\"]"
   ]
  },
  {
   "cell_type": "markdown",
   "metadata": {},
   "source": [
    "## The Data in consideration\n",
    "The data being considered for this analysis is the stock value for Apple Inc since the beginning of March 2019. The algorithm will create a model that tells the High for that day given the day's opening price which will be very useful for daily stock traders. "
   ]
  },
  {
   "cell_type": "code",
   "execution_count": 18,
   "metadata": {},
   "outputs": [
    {
     "data": {
      "text/html": [
       "<div>\n",
       "<style scoped>\n",
       "    .dataframe tbody tr th:only-of-type {\n",
       "        vertical-align: middle;\n",
       "    }\n",
       "\n",
       "    .dataframe tbody tr th {\n",
       "        vertical-align: top;\n",
       "    }\n",
       "\n",
       "    .dataframe thead th {\n",
       "        text-align: right;\n",
       "    }\n",
       "</style>\n",
       "<table border=\"1\" class=\"dataframe\">\n",
       "  <thead>\n",
       "    <tr style=\"text-align: right;\">\n",
       "      <th></th>\n",
       "      <th>Date</th>\n",
       "      <th>Open</th>\n",
       "      <th>High</th>\n",
       "      <th>Low</th>\n",
       "      <th>Close</th>\n",
       "      <th>Adj Close</th>\n",
       "      <th>Volume</th>\n",
       "    </tr>\n",
       "  </thead>\n",
       "  <tbody>\n",
       "    <tr>\n",
       "      <th>0</th>\n",
       "      <td>2019-03-01</td>\n",
       "      <td>174.279999</td>\n",
       "      <td>175.149994</td>\n",
       "      <td>172.889999</td>\n",
       "      <td>174.970001</td>\n",
       "      <td>174.970001</td>\n",
       "      <td>25886200</td>\n",
       "    </tr>\n",
       "    <tr>\n",
       "      <th>1</th>\n",
       "      <td>2019-03-04</td>\n",
       "      <td>175.690002</td>\n",
       "      <td>177.750000</td>\n",
       "      <td>173.970001</td>\n",
       "      <td>175.850006</td>\n",
       "      <td>175.850006</td>\n",
       "      <td>27436200</td>\n",
       "    </tr>\n",
       "    <tr>\n",
       "      <th>2</th>\n",
       "      <td>2019-03-05</td>\n",
       "      <td>175.940002</td>\n",
       "      <td>176.000000</td>\n",
       "      <td>174.539993</td>\n",
       "      <td>175.529999</td>\n",
       "      <td>175.529999</td>\n",
       "      <td>19737400</td>\n",
       "    </tr>\n",
       "    <tr>\n",
       "      <th>3</th>\n",
       "      <td>2019-03-06</td>\n",
       "      <td>174.669998</td>\n",
       "      <td>175.490005</td>\n",
       "      <td>173.940002</td>\n",
       "      <td>174.520004</td>\n",
       "      <td>174.520004</td>\n",
       "      <td>20810400</td>\n",
       "    </tr>\n",
       "    <tr>\n",
       "      <th>4</th>\n",
       "      <td>2019-03-07</td>\n",
       "      <td>173.869995</td>\n",
       "      <td>174.440002</td>\n",
       "      <td>172.020004</td>\n",
       "      <td>172.500000</td>\n",
       "      <td>172.500000</td>\n",
       "      <td>24796400</td>\n",
       "    </tr>\n",
       "  </tbody>\n",
       "</table>\n",
       "</div>"
      ],
      "text/plain": [
       "         Date        Open        High         Low       Close   Adj Close  \\\n",
       "0  2019-03-01  174.279999  175.149994  172.889999  174.970001  174.970001   \n",
       "1  2019-03-04  175.690002  177.750000  173.970001  175.850006  175.850006   \n",
       "2  2019-03-05  175.940002  176.000000  174.539993  175.529999  175.529999   \n",
       "3  2019-03-06  174.669998  175.490005  173.940002  174.520004  174.520004   \n",
       "4  2019-03-07  173.869995  174.440002  172.020004  172.500000  172.500000   \n",
       "\n",
       "     Volume  \n",
       "0  25886200  \n",
       "1  27436200  \n",
       "2  19737400  \n",
       "3  20810400  \n",
       "4  24796400  "
      ]
     },
     "execution_count": 18,
     "metadata": {},
     "output_type": "execute_result"
    }
   ],
   "source": [
    "data.head()"
   ]
  },
  {
   "cell_type": "code",
   "execution_count": 19,
   "metadata": {},
   "outputs": [],
   "source": [
    "data = data.values"
   ]
  },
  {
   "cell_type": "code",
   "execution_count": 20,
   "metadata": {},
   "outputs": [],
   "source": [
    "x_1 = np.c_[data[:,1], np.ones(data.shape[0])]\n",
    "y_1 = np.c_[data[:,2]]"
   ]
  },
  {
   "cell_type": "code",
   "execution_count": 21,
   "metadata": {},
   "outputs": [
    {
     "data": {
      "image/png": "[encoded data removed]",
      "text/plain": [
       "<Figure size 432x288 with 1 Axes>"
      ]
     },
     "metadata": {
      "needs_background": "light"
     },
     "output_type": "display_data"
    }
   ],
   "source": [
    "plt.scatter(x_1[:,0],y_1, s=32, marker='o')\n",
    "plt.xlabel('Opening value for Apple stocks[In $]')\n",
    "plt.ylabel('Highest stock value for that day[In $]')\n",
    "plt.show()"
   ]
  },
  {
   "cell_type": "code",
   "execution_count": 22,
   "metadata": {},
   "outputs": [],
   "source": [
    "def train(x_1, y_1):\n",
    "    iteration = 200\n",
    "    theta = [[0],[0]]\n",
    "    cost_function = np.zeros(iteration)\n",
    "    \n",
    "    for i in range(iteration):\n",
    "        h = np.dot(x_1, theta)\n",
    "        theta = update_weight(h, theta, x_1)\n",
    "        cost_function[i] = cost(x_1, theta)\n",
    "\n",
    "        print(\"The cost function is \", cost_function[i])\n",
    "        \n",
    "    return theta, cost_function"
   ]
  },
  {
   "cell_type": "code",
   "execution_count": 23,
   "metadata": {},
   "outputs": [],
   "source": [
    "def cost(x_1, theta):\n",
    "    m = x_1[:,0].size\n",
    "    h = np.dot(x_1, theta)\n",
    "    return (1/2*m) * np.sum(np.square(h - y_1))"
   ]
  },
  {
   "cell_type": "code",
   "execution_count": 24,
   "metadata": {},
   "outputs": [],
   "source": [
    "def update_weight(h, theta, x_1):\n",
    "    m = x_1[:,0].size\n",
    "    alpha = 0.01\n",
    "    theta = theta - alpha * (1/m * np.dot((x_1.T), (h - y_1)))\n",
    "    return theta"
   ]
  },
  {
   "cell_type": "code",
   "execution_count": 25,
   "metadata": {},
   "outputs": [
    {
     "name": "stdout",
     "output_type": "stream",
     "text": [
      "The cost function is  762218254536.7084\n",
      "The cost function is  8.504218028495621e+16\n",
      "The cost function is  9.488322260336575e+21\n",
      "The cost function is  1.0586306585077621e+27\n",
      "The cost function is  1.1811349155133194e+32\n",
      "The cost function is  1.3178153092705152e+37\n",
      "The cost function is  1.470312295859109e+42\n",
      "The cost function is  1.6404561641882673e+47\n",
      "The cost function is  1.8302890033650066e+52\n",
      "The cost function is  2.0420892121164968e+57\n",
      "The cost function is  2.278398844431532e+62\n",
      "The cost function is  2.5420541196271695e+67\n",
      "The cost function is  2.836219463026356e+72\n",
      "The cost function is  3.1644254858072424e+77\n",
      "The cost function is  3.5306113598633564e+82\n",
      "The cost function is  3.9391720962632543e+87\n",
      "The cost function is  4.395011294751963e+92\n",
      "The cost function is  4.903599997400679e+97\n",
      "The cost function is  5.471042352773968e+102\n",
      "The cost function is  6.10414887872444e+107\n",
      "The cost function is  6.810518203124613e+112\n",
      "The cost function is  7.598628263599009e+117\n",
      "The cost function is  8.47793806084762e+122\n",
      "The cost function is  9.459001186817587e+127\n",
      "The cost function is  1.0553592490303132e+133\n",
      "The cost function is  1.177484940023092e+138\n",
      "The cost function is  1.313742960281159e+143\n",
      "The cost function is  1.4657686965019315e+148\n",
      "The cost function is  1.635386781585622e+153\n",
      "The cost function is  1.8246329941195147e+158\n",
      "The cost function is  2.035778692060585e+163\n",
      "The cost function is  2.2713580738727117e+168\n",
      "The cost function is  2.5341985943102845e+173\n",
      "The cost function is  2.827454899902376e+178\n",
      "The cost function is  3.154646691435705e+183\n",
      "The cost function is  3.5197009678668405e+188\n",
      "The cost function is  3.9269991586806715e+193\n",
      "The cost function is  4.381429710383892e+198\n",
      "The cost function is  4.888446758283523e+203\n",
      "The cost function is  5.45413558773693e+208\n",
      "The cost function is  6.08528567054778e+213\n",
      "The cost function is  6.7894721531004696e+218\n",
      "The cost function is  7.57514677426429e+223\n",
      "The cost function is  8.451739304276e+228\n",
      "The cost function is  9.429770722083652e+233\n",
      "The cost function is  1.0520979489520966e+239\n",
      "The cost function is  1.1738462437871657e+244\n",
      "The cost function is  1.3096831957762679e+249\n",
      "The cost function is  1.4612391379000237e+254\n",
      "The cost function is  1.630333064528042e+259\n",
      "The cost function is  1.8189944632288205e+264\n",
      "The cost function is  2.0294876729467158e+269\n",
      "The cost function is  2.2643390608960595e+274\n",
      "The cost function is  2.526367344353049e+279\n",
      "The cost function is  2.8187174212715922e+284\n",
      "The cost function is  3.1448981157625624e+289\n",
      "The cost function is  3.508824291462721e+294\n",
      "The cost function is  3.914863838243462e+299\n",
      "The cost function is  4.367890096200094e+304\n",
      "The cost function is  inf\n",
      "The cost function is  inf\n",
      "The cost function is  inf\n",
      "The cost function is  inf\n",
      "The cost function is  inf\n",
      "The cost function is  inf\n",
      "The cost function is  inf\n",
      "The cost function is  inf\n",
      "The cost function is  inf\n",
      "The cost function is  inf\n",
      "The cost function is  inf\n",
      "The cost function is  inf\n",
      "The cost function is  inf\n",
      "The cost function is  inf\n",
      "The cost function is  inf\n",
      "The cost function is  inf\n",
      "The cost function is  inf\n",
      "The cost function is  inf\n",
      "The cost function is  inf\n",
      "The cost function is  inf\n",
      "The cost function is  inf\n",
      "The cost function is  inf\n",
      "The cost function is  inf\n",
      "The cost function is  inf\n",
      "The cost function is  inf\n",
      "The cost function is  inf\n",
      "The cost function is  inf\n",
      "The cost function is  inf\n",
      "The cost function is  inf\n",
      "The cost function is  inf\n",
      "The cost function is  inf\n",
      "The cost function is  inf\n",
      "The cost function is  inf\n",
      "The cost function is  inf\n",
      "The cost function is  inf\n",
      "The cost function is  inf\n",
      "The cost function is  inf\n",
      "The cost function is  inf\n",
      "The cost function is  inf\n",
      "The cost function is  inf\n",
      "The cost function is  inf\n",
      "The cost function is  inf\n",
      "The cost function is  inf\n",
      "The cost function is  inf\n",
      "The cost function is  inf\n",
      "The cost function is  inf\n",
      "The cost function is  inf\n",
      "The cost function is  inf\n",
      "The cost function is  inf\n",
      "The cost function is  inf\n",
      "The cost function is  inf\n",
      "The cost function is  inf\n",
      "The cost function is  inf\n",
      "The cost function is  inf\n",
      "The cost function is  inf\n",
      "The cost function is  inf\n",
      "The cost function is  inf\n",
      "The cost function is  inf\n",
      "The cost function is  inf\n",
      "The cost function is  inf\n",
      "The cost function is  inf\n",
      "The cost function is  inf\n",
      "The cost function is  nan\n",
      "The cost function is  nan\n",
      "The cost function is  nan\n",
      "The cost function is  nan\n",
      "The cost function is  nan\n",
      "The cost function is  nan\n",
      "The cost function is  nan\n",
      "The cost function is  nan\n",
      "The cost function is  nan\n",
      "The cost function is  nan\n",
      "The cost function is  nan\n",
      "The cost function is  nan\n",
      "The cost function is  nan\n",
      "The cost function is  nan\n",
      "The cost function is  nan\n",
      "The cost function is  nan\n",
      "The cost function is  nan\n",
      "The cost function is  nan\n",
      "The cost function is  nan\n",
      "The cost function is  nan\n",
      "The cost function is  nan\n",
      "The cost function is  nan\n",
      "The cost function is  nan\n",
      "The cost function is  nan\n",
      "The cost function is  nan\n",
      "The cost function is  nan\n",
      "The cost function is  nan\n",
      "The cost function is  nan\n",
      "The cost function is  nan\n",
      "The cost function is  nan\n",
      "The cost function is  nan\n",
      "The cost function is  nan\n",
      "The cost function is  nan\n",
      "The cost function is  nan\n",
      "The cost function is  nan\n",
      "The cost function is  nan\n",
      "The cost function is  nan\n",
      "The cost function is  nan\n",
      "The cost function is  nan\n",
      "The cost function is  nan\n",
      "The cost function is  nan\n",
      "The cost function is  nan\n",
      "The cost function is  nan\n",
      "The cost function is  nan\n",
      "The cost function is  nan\n",
      "The cost function is  nan\n",
      "The cost function is  nan\n",
      "The cost function is  nan\n",
      "The cost function is  nan\n",
      "The cost function is  nan\n",
      "The cost function is  nan\n",
      "The cost function is  nan\n",
      "The cost function is  nan\n",
      "The cost function is  nan\n",
      "The cost function is  nan\n",
      "The cost function is  nan\n",
      "The cost function is  nan\n",
      "The cost function is  nan\n",
      "The cost function is  nan\n",
      "The cost function is  nan\n",
      "The cost function is  nan\n",
      "The cost function is  nan\n",
      "The cost function is  nan\n",
      "The cost function is  nan\n",
      "The cost function is  nan\n",
      "The cost function is  nan\n",
      "The cost function is  nan\n",
      "The cost function is  nan\n",
      "The cost function is  nan\n",
      "The cost function is  nan\n",
      "The cost function is  nan\n",
      "The cost function is  nan\n",
      "The cost function is  nan\n",
      "The cost function is  nan\n",
      "The cost function is  nan\n",
      "The cost function is  nan\n",
      "The cost function is  nan\n",
      "The cost function is  nan\n",
      "The cost function is  nan\n"
     ]
    },
    {
     "name": "stderr",
     "output_type": "stream",
     "text": [
      "C:\\Users\\Acer\\Anaconda3\\lib\\site-packages\\numpy\\core\\fromnumeric.py:83: RuntimeWarning: overflow encountered in reduce\n",
      "  return ufunc.reduce(obj, axis, dtype, out, **passkwargs)\n",
      "C:\\Users\\Acer\\Anaconda3\\lib\\site-packages\\ipykernel_launcher.py:4: RuntimeWarning: overflow encountered in square\n",
      "  after removing the cwd from sys.path.\n",
      "C:\\Users\\Acer\\Anaconda3\\lib\\site-packages\\ipykernel_launcher.py:4: RuntimeWarning: invalid value encountered in subtract\n",
      "  after removing the cwd from sys.path.\n"
     ]
    }
   ],
   "source": [
    "theta, cost_values = train(x_1,y_1)"
   ]
  },
  {
   "cell_type": "code",
   "execution_count": 26,
   "metadata": {},
   "outputs": [
    {
     "name": "stdout",
     "output_type": "stream",
     "text": [
      "Our learned value of theta:  [nan nan]\n"
     ]
    }
   ],
   "source": [
    "print('Our learned value of theta: ',theta.ravel())"
   ]
  },
  {
   "cell_type": "code",
   "execution_count": 27,
   "metadata": {},
   "outputs": [
    {
     "data": {
      "text/plain": [
       "[<matplotlib.lines.Line2D at 0x1db1f036208>]"
      ]
     },
     "execution_count": 27,
     "metadata": {},
     "output_type": "execute_result"
    },
    {
     "data": {
      "image/png": "[encoded data removed]",
      "text/plain": [
       "<Figure size 432x288 with 1 Axes>"
      ]
     },
     "metadata": {
      "needs_background": "light"
     },
     "output_type": "display_data"
    }
   ],
   "source": [
    "x_plot = np.arange(170,200)\n",
    "y_plot = theta[0]*x_plot + theta[1]\n",
    "# Plot gradient descent\n",
    "plt.scatter(x_1[:,0], y_1, s=30, c='r', marker='o', linewidths=1)\n",
    "plt.plot(x_plot,y_plot, label='Linear regression (Gradient descent)')"
   ]
  },
  {
   "cell_type": "markdown",
   "metadata": {},
   "source": [
    "## Using Scikit Learn method"
   ]
  },
  {
   "cell_type": "code",
   "execution_count": 28,
   "metadata": {},
   "outputs": [],
   "source": [
    "x_1 = x_1[:,0].reshape(-1,1)"
   ]
  },
  {
   "cell_type": "code",
   "execution_count": 29,
   "metadata": {},
   "outputs": [
    {
     "data": {
      "text/plain": [
       "LinearRegression(copy_X=True, fit_intercept=True, n_jobs=None,\n",
       "         normalize=False)"
      ]
     },
     "execution_count": 29,
     "metadata": {},
     "output_type": "execute_result"
    }
   ],
   "source": [
    "X_train,X_test,y_train,y_test = train_test_split(x_1,y_1,random_state=0)\n",
    "linreg = LinearRegression()\n",
    "linreg.fit(X_train, y_train)"
   ]
  },
  {
   "cell_type": "code",
   "execution_count": 30,
   "metadata": {},
   "outputs": [],
   "source": [
    "y_pred = linreg.predict(X_test)"
   ]
  },
  {
   "cell_type": "code",
   "execution_count": 31,
   "metadata": {},
   "outputs": [
    {
     "data": {
      "text/plain": [
       "0.9608048532715984"
      ]
     },
     "execution_count": 31,
     "metadata": {},
     "output_type": "execute_result"
    }
   ],
   "source": [
    "linreg.score(X_train,y_train)"
   ]
  },
  {
   "cell_type": "code",
   "execution_count": 32,
   "metadata": {},
   "outputs": [
    {
     "name": "stdout",
     "output_type": "stream",
     "text": [
      "The cost function is: 0.9391515815926248\n"
     ]
    }
   ],
   "source": [
    "mse = metrics.mean_squared_error(y_test,y_pred)\n",
    "print(\"The cost function is:\",mse)"
   ]
  },
  {
   "cell_type": "code",
   "execution_count": 33,
   "metadata": {},
   "outputs": [
    {
     "name": "stdout",
     "output_type": "stream",
     "text": [
      "Our learned value of theta:  [array([1.03731254]), array([-4.91523939])]\n"
     ]
    }
   ],
   "source": [
    "print('Our learned value of theta: ',[*linreg.coef_, linreg.intercept_])"
   ]
  },
  {
   "cell_type": "code",
   "execution_count": 34,
   "metadata": {},
   "outputs": [
    {
     "data": {
      "text/plain": [
       "[<matplotlib.lines.Line2D at 0x1db1f05db38>]"
      ]
     },
     "execution_count": 34,
     "metadata": {},
     "output_type": "execute_result"
    },
    {
     "data": {
      "image/png": "[encoded data removed]",
      "text/plain": [
       "<Figure size 432x288 with 1 Axes>"
      ]
     },
     "metadata": {
      "needs_background": "light"
     },
     "output_type": "display_data"
    }
   ],
   "source": [
    "plt.figure()\n",
    "x_plot = X_train\n",
    "y_plot = linreg.intercept_ + X_train*linreg.coef_\n",
    "plt.scatter(x_1, y_1, s=30, c='r', marker='o', linewidths=1)\n",
    "plt.plot(x_plot,y_plot, label='Linear regression (S. Gradient descent)')"
   ]
  },
  {
   "cell_type": "code",
   "execution_count": 35,
   "metadata": {},
   "outputs": [],
   "source": [
    "def predict():\n",
    "    input_ = float(input(\"Input Apple's opening stock price (in $): \"))\n",
    "    print(\"Given the opening price of \", input_, \", the stock will hit a high of $\",((input_ * 1.03731254) - 4.91523939), \" today\")"
   ]
  },
  {
   "cell_type": "code",
   "execution_count": 36,
   "metadata": {},
   "outputs": [
    {
     "name": "stdout",
     "output_type": "stream",
     "text": [
      "Input Apple's opening stock price (in $): 180\n",
      "Given the opening price of  180.0 , the stock will hit a high of $ 181.80101781  today\n"
     ]
    }
   ],
   "source": [
    "predict()"
   ]
  },
  {
   "cell_type": "markdown",
   "metadata": {},
   "source": [
    "## Remarks\n",
    "The Algorithm for the univariate linear regression gave me error which may have been due to an ommision I made but the scikit learn gave me the right prediction. "
   ]
  }
 ],
 "metadata": {
  "kernelspec": {
   "display_name": "Python 3",
   "language": "python",
   "name": "python3"
  },
  "language_info": {
   "codemirror_mode": {
    "name": "ipython",
    "version": 3
   },
   "file_extension": ".py",
   "mimetype": "text/x-python",
   "name": "python",
   "nbconvert_exporter": "python",
   "pygments_lexer": "ipython3",
   "version": "3.7.1"
  }
 },
 "nbformat": 4,
 "nbformat_minor": 2
}
